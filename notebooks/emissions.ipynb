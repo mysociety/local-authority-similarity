{
 "cells": [
  {
   "cell_type": "code",
   "execution_count": 1,
   "metadata": {
    "execution": {
     "iopub.execute_input": "2023-04-03T10:09:39.387045Z",
     "iopub.status.busy": "2023-04-03T10:09:39.386849Z",
     "iopub.status.idle": "2023-04-03T10:09:41.160446Z",
     "shell.execute_reply": "2023-04-03T10:09:41.159826Z"
    }
   },
   "outputs": [],
   "source": [
    "# Notebook to produce the distance calculation\n",
    "\n",
    "from data_common.notebook import *\n",
    "from data_common.dataset import get_dataset_df"
   ]
  },
  {
   "cell_type": "code",
   "execution_count": 2,
   "metadata": {
    "execution": {
     "iopub.execute_input": "2023-04-03T10:09:41.163765Z",
     "iopub.status.busy": "2023-04-03T10:09:41.163081Z",
     "iopub.status.idle": "2023-04-03T10:09:41.565853Z",
     "shell.execute_reply": "2023-04-03T10:09:41.565358Z"
    }
   },
   "outputs": [
    {
     "data": {
      "text/html": [
       "<div>\n",
       "<style scoped>\n",
       "    .dataframe tbody tr th:only-of-type {\n",
       "        vertical-align: middle;\n",
       "    }\n",
       "\n",
       "    .dataframe tbody tr th {\n",
       "        vertical-align: top;\n",
       "    }\n",
       "\n",
       "    .dataframe thead th {\n",
       "        text-align: right;\n",
       "    }\n",
       "</style>\n",
       "<table border=\"1\" class=\"dataframe\">\n",
       "  <thead>\n",
       "    <tr style=\"text-align: right;\">\n",
       "      <th></th>\n",
       "      <th>local-authority-code</th>\n",
       "      <th>label</th>\n",
       "    </tr>\n",
       "  </thead>\n",
       "  <tbody>\n",
       "    <tr>\n",
       "      <th>0</th>\n",
       "      <td>GLA</td>\n",
       "      <td>Public sector</td>\n",
       "    </tr>\n",
       "    <tr>\n",
       "      <th>1</th>\n",
       "      <td>WMCA</td>\n",
       "      <td>Urban Mainstream</td>\n",
       "    </tr>\n",
       "    <tr>\n",
       "      <th>2</th>\n",
       "      <td>GMCA</td>\n",
       "      <td>Urban Mainstream</td>\n",
       "    </tr>\n",
       "    <tr>\n",
       "      <th>3</th>\n",
       "      <td>WYCA</td>\n",
       "      <td>Urban Mainstream</td>\n",
       "    </tr>\n",
       "    <tr>\n",
       "      <th>4</th>\n",
       "      <td>KEN</td>\n",
       "      <td>Urban Mainstream</td>\n",
       "    </tr>\n",
       "  </tbody>\n",
       "</table>\n",
       "</div>"
      ],
      "text/plain": [
       "  local-authority-code             label\n",
       "0                  GLA     Public sector\n",
       "1                 WMCA  Urban Mainstream\n",
       "2                 GMCA  Urban Mainstream\n",
       "3                 WYCA  Urban Mainstream\n",
       "4                  KEN  Urban Mainstream"
      ]
     },
     "execution_count": 2,
     "metadata": {},
     "output_type": "execute_result"
    }
   ],
   "source": [
    "df = get_dataset_df(\n",
    "    \"la-emissions-data\",\n",
    "    \"uk_local_authority_emissions_data\",\n",
    "    settings[\"emissions_release\"],\n",
    "    \"la_labels.csv\",\n",
    ")\n",
    "\n",
    "label_df = df[[\"local-authority-code\", \"label\"]]\n",
    "label_df.to_csv(\n",
    "    Path(\"data\", \"packages\", \"emissions_distance\", \"la_labels.csv\"), index=False\n",
    ")\n",
    "label_df.head()"
   ]
  },
  {
   "cell_type": "code",
   "execution_count": 3,
   "metadata": {
    "execution": {
     "iopub.execute_input": "2023-04-03T10:09:41.600736Z",
     "iopub.status.busy": "2023-04-03T10:09:41.600121Z",
     "iopub.status.idle": "2023-04-03T10:09:41.610292Z",
     "shell.execute_reply": "2023-04-03T10:09:41.609681Z"
    }
   },
   "outputs": [
    {
     "data": {
      "text/html": [
       "<div>\n",
       "<style scoped>\n",
       "    .dataframe tbody tr th:only-of-type {\n",
       "        vertical-align: middle;\n",
       "    }\n",
       "\n",
       "    .dataframe tbody tr th {\n",
       "        vertical-align: top;\n",
       "    }\n",
       "\n",
       "    .dataframe thead th {\n",
       "        text-align: right;\n",
       "    }\n",
       "</style>\n",
       "<table border=\"1\" class=\"dataframe\">\n",
       "  <thead>\n",
       "    <tr style=\"text-align: right;\">\n",
       "      <th></th>\n",
       "      <th>label</th>\n",
       "      <th>desc</th>\n",
       "    </tr>\n",
       "  </thead>\n",
       "  <tbody>\n",
       "    <tr>\n",
       "      <th>0</th>\n",
       "      <td>Public sector</td>\n",
       "      <td>Well above average public sector (government, ...</td>\n",
       "    </tr>\n",
       "    <tr>\n",
       "      <th>1</th>\n",
       "      <td>Urban Mainstream</td>\n",
       "      <td>Below average for all emissions scores</td>\n",
       "    </tr>\n",
       "    <tr>\n",
       "      <th>7</th>\n",
       "      <td>Transport/Domestic</td>\n",
       "      <td>Above average transport/domestic score</td>\n",
       "    </tr>\n",
       "    <tr>\n",
       "      <th>76</th>\n",
       "      <td>Agriculture</td>\n",
       "      <td>Above average agriculture, domestic score</td>\n",
       "    </tr>\n",
       "    <tr>\n",
       "      <th>118</th>\n",
       "      <td>Industry/Commerical/Domestic</td>\n",
       "      <td>Above average for industry/domestic/doemestic,...</td>\n",
       "    </tr>\n",
       "  </tbody>\n",
       "</table>\n",
       "</div>"
      ],
      "text/plain": [
       "                            label  \\\n",
       "0                   Public sector   \n",
       "1                Urban Mainstream   \n",
       "7              Transport/Domestic   \n",
       "76                    Agriculture   \n",
       "118  Industry/Commerical/Domestic   \n",
       "\n",
       "                                                  desc  \n",
       "0    Well above average public sector (government, ...  \n",
       "1               Below average for all emissions scores  \n",
       "7               Above average transport/domestic score  \n",
       "76           Above average agriculture, domestic score  \n",
       "118  Above average for industry/domestic/doemestic,...  "
      ]
     },
     "execution_count": 3,
     "metadata": {},
     "output_type": "execute_result"
    }
   ],
   "source": [
    "desc = df[[\"label\", \"desc\"]].drop_duplicates()\n",
    "desc.to_csv(\n",
    "    Path(\"data\", \"packages\", \"emissions_distance\", \"label_desc.csv\"), index=False\n",
    ")\n",
    "desc.head()"
   ]
  },
  {
   "cell_type": "code",
   "execution_count": 4,
   "metadata": {
    "execution": {
     "iopub.execute_input": "2023-04-03T10:09:41.612949Z",
     "iopub.status.busy": "2023-04-03T10:09:41.612411Z",
     "iopub.status.idle": "2023-04-03T10:09:42.974888Z",
     "shell.execute_reply": "2023-04-03T10:09:42.974256Z"
    }
   },
   "outputs": [],
   "source": [
    "def density_transform(series: pd.Series):\n",
    "    \"\"\"\n",
    "    Density is scaled down after it is normalized\n",
    "    So it presents as a pressure pushing apart dissimilar areas, but is far far less significant than the emissions.\n",
    "    \"\"\"\n",
    "    return series * 0.25\n",
    "\n",
    "\n",
    "d = (\n",
    "    df.drop(columns=[\"label\", \"desc\"])\n",
    "    .set_index(\"local-authority-code\")\n",
    "    .space.self_distance(normalize=True, transform={\"pop_density\": density_transform})\n",
    "    .space.match_distance()\n",
    "    .space.local_rankings()\n",
    "    .sort_values([\"local-authority-code_A\", \"distance\"])\n",
    ")\n",
    "d.to_csv(\n",
    "    Path(\"data\", \"packages\", \"emissions_distance\", \"distance_map.csv\"), index=False\n",
    ")"
   ]
  }
 ],
 "metadata": {
  "kernelspec": {
   "display_name": "Python 3.10.6 64-bit",
   "language": "python",
   "name": "python3"
  },
  "language_info": {
   "codemirror_mode": {
    "name": "ipython",
    "version": 3
   },
   "file_extension": ".py",
   "mimetype": "text/x-python",
   "name": "python",
   "nbconvert_exporter": "python",
   "pygments_lexer": "ipython3",
   "version": "3.10.10"
  },
  "vscode": {
   "interpreter": {
    "hash": "949777d72b0d2535278d3dc13498b2535136f6dfe0678499012e853ee9abcab1"
   }
  }
 },
 "nbformat": 4,
 "nbformat_minor": 2
}
