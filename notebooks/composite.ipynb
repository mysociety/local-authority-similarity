{
 "cells": [
  {
   "cell_type": "code",
   "execution_count": 1,
   "metadata": {
    "execution": {
     "iopub.execute_input": "2023-03-08T14:43:21.289718Z",
     "iopub.status.busy": "2023-03-08T14:43:21.289177Z",
     "iopub.status.idle": "2023-03-08T14:43:23.063898Z",
     "shell.execute_reply": "2023-03-08T14:43:23.062916Z"
    }
   },
   "outputs": [],
   "source": [
    "from data_common.notebook import *\n",
    "\n",
    "from functools import reduce\n",
    "from itertools import product"
   ]
  },
  {
   "cell_type": "markdown",
   "metadata": {},
   "source": [
    "# Composite distance dataset\n",
    "\n",
    "This notebook creates a new set of distance calculations based on all the individual distances.\n",
    "\n",
    "Rather than the average distance between two councils on different measures, the overall distance takes each different measure of distance as a different dimention, and calculcates the distance between the councils in the resulting multi-dimentional space.\n",
    "\n",
    "All measures are curretly assumed to be equal and are not adjusted to make any more important. As there is some overlap in results between them, in general this approach should push councils that are slightly similar on multiple approachs further up. Generally this composite measure has greater agreement with its components than any single measure does with the others."
   ]
  },
  {
   "cell_type": "code",
   "execution_count": 2,
   "metadata": {
    "execution": {
     "iopub.execute_input": "2023-03-08T14:43:23.067434Z",
     "iopub.status.busy": "2023-03-08T14:43:23.066909Z",
     "iopub.status.idle": "2023-03-08T14:43:23.381683Z",
     "shell.execute_reply": "2023-03-08T14:43:23.380816Z"
    }
   },
   "outputs": [],
   "source": [
    "packages = {\n",
    "    \"geographic\": Path(\"data\", \"packages\", \"physical_distance\"),\n",
    "    \"emissions\": Path(\"data\", \"packages\", \"emissions_distance\"),\n",
    "    \"imd\": Path(\"data\", \"packages\", \"imd_distance\"),\n",
    "    \"ruc\": Path(\"data\", \"packages\", \"ruc_distance\"),\n",
    "}\n",
    "\n",
    "files = {x: pd.read_csv(y / \"distance_map.csv\") for x, y in packages.items()}"
   ]
  },
  {
   "cell_type": "code",
   "execution_count": 3,
   "metadata": {
    "execution": {
     "iopub.execute_input": "2023-03-08T14:43:23.385023Z",
     "iopub.status.busy": "2023-03-08T14:43:23.384671Z",
     "iopub.status.idle": "2023-03-08T14:43:25.581021Z",
     "shell.execute_reply": "2023-03-08T14:43:25.580196Z"
    }
   },
   "outputs": [
    {
     "data": {
      "text/html": [
       "<div>\n",
       "<style scoped>\n",
       "    .dataframe tbody tr th:only-of-type {\n",
       "        vertical-align: middle;\n",
       "    }\n",
       "\n",
       "    .dataframe tbody tr th {\n",
       "        vertical-align: top;\n",
       "    }\n",
       "\n",
       "    .dataframe thead th {\n",
       "        text-align: right;\n",
       "    }\n",
       "</style>\n",
       "<table border=\"1\" class=\"dataframe\">\n",
       "  <thead>\n",
       "    <tr style=\"text-align: right;\">\n",
       "      <th></th>\n",
       "      <th>local-authority-code_A</th>\n",
       "      <th>local-authority-code_B</th>\n",
       "      <th>distance</th>\n",
       "      <th>match</th>\n",
       "      <th>position</th>\n",
       "    </tr>\n",
       "  </thead>\n",
       "  <tbody>\n",
       "    <tr>\n",
       "      <th>0</th>\n",
       "      <td>ABC</td>\n",
       "      <td>MEA</td>\n",
       "      <td>5.68</td>\n",
       "      <td>64.9</td>\n",
       "      <td>2.0</td>\n",
       "    </tr>\n",
       "    <tr>\n",
       "      <th>1</th>\n",
       "      <td>ABC</td>\n",
       "      <td>ANN</td>\n",
       "      <td>5.68</td>\n",
       "      <td>64.9</td>\n",
       "      <td>1.0</td>\n",
       "    </tr>\n",
       "    <tr>\n",
       "      <th>2</th>\n",
       "      <td>ABC</td>\n",
       "      <td>RCC</td>\n",
       "      <td>8.02</td>\n",
       "      <td>50.4</td>\n",
       "      <td>3.0</td>\n",
       "    </tr>\n",
       "    <tr>\n",
       "      <th>3</th>\n",
       "      <td>ABC</td>\n",
       "      <td>DRS</td>\n",
       "      <td>8.60</td>\n",
       "      <td>46.8</td>\n",
       "      <td>4.0</td>\n",
       "    </tr>\n",
       "    <tr>\n",
       "      <th>4</th>\n",
       "      <td>ABC</td>\n",
       "      <td>NMD</td>\n",
       "      <td>8.69</td>\n",
       "      <td>46.3</td>\n",
       "      <td>5.0</td>\n",
       "    </tr>\n",
       "  </tbody>\n",
       "</table>\n",
       "</div>"
      ],
      "text/plain": [
       "  local-authority-code_A local-authority-code_B  distance  match  position\n",
       "0                    ABC                    MEA      5.68   64.9       2.0\n",
       "1                    ABC                    ANN      5.68   64.9       1.0\n",
       "2                    ABC                    RCC      8.02   50.4       3.0\n",
       "3                    ABC                    DRS      8.60   46.8       4.0\n",
       "4                    ABC                    NMD      8.69   46.3       5.0"
      ]
     },
     "execution_count": 3,
     "metadata": {},
     "output_type": "execute_result"
    }
   ],
   "source": [
    "df = (\n",
    "    pd.DataFrame()\n",
    "    .space.join_distance(files)\n",
    "    .joint_space.composite_distance(normalize=False)\n",
    "    .space.match_distance()\n",
    "    .space.local_rankings()\n",
    ")\n",
    "df.to_csv(\n",
    "    Path(\"data\", \"packages\", \"composite_distance\", \"distance_map.csv\"), index=False\n",
    ")\n",
    "df.head()"
   ]
  },
  {
   "cell_type": "code",
   "execution_count": 4,
   "metadata": {
    "execution": {
     "iopub.execute_input": "2023-03-08T14:43:25.584112Z",
     "iopub.status.busy": "2023-03-08T14:43:25.583784Z",
     "iopub.status.idle": "2023-03-08T14:43:25.614898Z",
     "shell.execute_reply": "2023-03-08T14:43:25.614163Z"
    }
   },
   "outputs": [
    {
     "data": {
      "text/html": [
       "<div>\n",
       "<style scoped>\n",
       "    .dataframe tbody tr th:only-of-type {\n",
       "        vertical-align: middle;\n",
       "    }\n",
       "\n",
       "    .dataframe tbody tr th {\n",
       "        vertical-align: top;\n",
       "    }\n",
       "\n",
       "    .dataframe thead th {\n",
       "        text-align: right;\n",
       "    }\n",
       "</style>\n",
       "<table border=\"1\" class=\"dataframe\">\n",
       "  <thead>\n",
       "    <tr style=\"text-align: right;\">\n",
       "      <th></th>\n",
       "      <th>local-authority-code</th>\n",
       "      <th>label</th>\n",
       "    </tr>\n",
       "  </thead>\n",
       "  <tbody>\n",
       "    <tr>\n",
       "      <th>0</th>\n",
       "      <td>ABC</td>\n",
       "      <td>Northern Ireland; Emissions: Agriculture; 1st ...</td>\n",
       "    </tr>\n",
       "    <tr>\n",
       "      <th>1</th>\n",
       "      <td>ABD</td>\n",
       "      <td>Scotland; Emissions: Transport/Domestic; 5th I...</td>\n",
       "    </tr>\n",
       "    <tr>\n",
       "      <th>2</th>\n",
       "      <td>ABE</td>\n",
       "      <td>Scotland; Emissions: Public sector; 4th IMD qu...</td>\n",
       "    </tr>\n",
       "    <tr>\n",
       "      <th>3</th>\n",
       "      <td>ADU</td>\n",
       "      <td>South East; Emissions: Urban Mainstream; 4th I...</td>\n",
       "    </tr>\n",
       "    <tr>\n",
       "      <th>4</th>\n",
       "      <td>AGB</td>\n",
       "      <td>Scotland; Emissions: Transport/Domestic; 4th I...</td>\n",
       "    </tr>\n",
       "  </tbody>\n",
       "</table>\n",
       "</div>"
      ],
      "text/plain": [
       "  local-authority-code                                              label\n",
       "0                  ABC  Northern Ireland; Emissions: Agriculture; 1st ...\n",
       "1                  ABD  Scotland; Emissions: Transport/Domestic; 5th I...\n",
       "2                  ABE  Scotland; Emissions: Public sector; 4th IMD qu...\n",
       "3                  ADU  South East; Emissions: Urban Mainstream; 4th I...\n",
       "4                  AGB  Scotland; Emissions: Transport/Domestic; 4th I..."
      ]
     },
     "execution_count": 4,
     "metadata": {},
     "output_type": "execute_result"
    }
   ],
   "source": [
    "# create composite labels\n",
    "\n",
    "files = [\n",
    "    pd.read_csv(y / \"la_labels.csv\")\n",
    "    .set_index(\"local-authority-code\")\n",
    "    .rename(columns={\"label\": x})\n",
    "    for x, y in packages.items()\n",
    "]\n",
    "\n",
    "df = reduce(pd.DataFrame.join, files)\n",
    "\n",
    "df[\"emissions\"] = \"Emissions: \" + df[\"emissions\"]\n",
    "\n",
    "\n",
    "def f(x):\n",
    "    return \"; \".join(x)\n",
    "\n",
    "\n",
    "ndf = df.apply(f, axis=\"columns\").to_frame().rename(columns={0: \"label\"}).reset_index()\n",
    "ndf.to_csv(Path(\"data\", \"packages\", \"composite_distance\", \"la_labels.csv\"), index=False)\n",
    "ndf.head()"
   ]
  },
  {
   "cell_type": "code",
   "execution_count": 5,
   "metadata": {
    "execution": {
     "iopub.execute_input": "2023-03-08T14:43:25.618288Z",
     "iopub.status.busy": "2023-03-08T14:43:25.617958Z",
     "iopub.status.idle": "2023-03-08T14:43:25.654761Z",
     "shell.execute_reply": "2023-03-08T14:43:25.654003Z"
    }
   },
   "outputs": [
    {
     "data": {
      "text/html": [
       "<div>\n",
       "<style scoped>\n",
       "    .dataframe tbody tr th:only-of-type {\n",
       "        vertical-align: middle;\n",
       "    }\n",
       "\n",
       "    .dataframe tbody tr th {\n",
       "        vertical-align: top;\n",
       "    }\n",
       "\n",
       "    .dataframe thead th {\n",
       "        text-align: right;\n",
       "    }\n",
       "</style>\n",
       "<table border=\"1\" class=\"dataframe\">\n",
       "  <thead>\n",
       "    <tr style=\"text-align: right;\">\n",
       "      <th></th>\n",
       "      <th>label</th>\n",
       "      <th>desc</th>\n",
       "    </tr>\n",
       "  </thead>\n",
       "  <tbody>\n",
       "    <tr>\n",
       "      <th>0</th>\n",
       "      <td>Northern Ireland; Emissions: Public sector; 1s...</td>\n",
       "      <td>Well above average public sector (government, ...</td>\n",
       "    </tr>\n",
       "    <tr>\n",
       "      <th>1</th>\n",
       "      <td>Northern Ireland; Emissions: Public sector; 1s...</td>\n",
       "      <td>Well above average public sector (government, ...</td>\n",
       "    </tr>\n",
       "    <tr>\n",
       "      <th>2</th>\n",
       "      <td>Northern Ireland; Emissions: Public sector; 1s...</td>\n",
       "      <td>Well above average public sector (government, ...</td>\n",
       "    </tr>\n",
       "    <tr>\n",
       "      <th>3</th>\n",
       "      <td>Northern Ireland; Emissions: Public sector; 1s...</td>\n",
       "      <td>Well above average public sector (government, ...</td>\n",
       "    </tr>\n",
       "    <tr>\n",
       "      <th>4</th>\n",
       "      <td>Northern Ireland; Emissions: Public sector; 2n...</td>\n",
       "      <td>Well above average public sector (government, ...</td>\n",
       "    </tr>\n",
       "  </tbody>\n",
       "</table>\n",
       "</div>"
      ],
      "text/plain": [
       "                                               label  \\\n",
       "0  Northern Ireland; Emissions: Public sector; 1s...   \n",
       "1  Northern Ireland; Emissions: Public sector; 1s...   \n",
       "2  Northern Ireland; Emissions: Public sector; 1s...   \n",
       "3  Northern Ireland; Emissions: Public sector; 1s...   \n",
       "4  Northern Ireland; Emissions: Public sector; 2n...   \n",
       "\n",
       "                                                desc  \n",
       "0  Well above average public sector (government, ...  \n",
       "1  Well above average public sector (government, ...  \n",
       "2  Well above average public sector (government, ...  \n",
       "3  Well above average public sector (government, ...  \n",
       "4  Well above average public sector (government, ...  "
      ]
     },
     "execution_count": 5,
     "metadata": {},
     "output_type": "execute_result"
    }
   ],
   "source": [
    "files = {x: pd.read_csv(y / \"label_desc.csv\") for x, y in packages.items()}\n",
    "\n",
    "files[\"emissions\"][\"label\"] = \"Emissions: \" + files[\"emissions\"][\"label\"]\n",
    "\n",
    "files[\"geographic\"][\"desc\"] = None\n",
    "\n",
    "labels = [x[\"label\"].tolist() for x in files.values()]\n",
    "descriptions = [x[\"desc\"].tolist() for x in files.values()]\n",
    "\n",
    "labels = pd.Series(product(*labels)).apply(lambda x: \"; \".join(x))\n",
    "\n",
    "\n",
    "def process_description(descriptions: List[str]) -> str:\n",
    "    value = \"; \".join([x for x in descriptions if x])\n",
    "    value = value.replace(\"Councils \", \"\")\n",
    "    return value\n",
    "\n",
    "\n",
    "descriptions = pd.Series(product(*descriptions)).apply(process_description)\n",
    "\n",
    "df = pd.DataFrame({\"label\": labels, \"desc\": descriptions})\n",
    "df.to_csv(Path(\"data\", \"packages\", \"composite_distance\", \"label_desc.csv\"), index=False)\n",
    "df.head()"
   ]
  }
 ],
 "metadata": {
  "kernelspec": {
   "display_name": "Python 3.10.6 64-bit",
   "language": "python",
   "name": "python3"
  },
  "language_info": {
   "codemirror_mode": {
    "name": "ipython",
    "version": 3
   },
   "file_extension": ".py",
   "mimetype": "text/x-python",
   "name": "python",
   "nbconvert_exporter": "python",
   "pygments_lexer": "ipython3",
   "version": "3.10.10"
  },
  "vscode": {
   "interpreter": {
    "hash": "949777d72b0d2535278d3dc13498b2535136f6dfe0678499012e853ee9abcab1"
   }
  }
 },
 "nbformat": 4,
 "nbformat_minor": 2
}
