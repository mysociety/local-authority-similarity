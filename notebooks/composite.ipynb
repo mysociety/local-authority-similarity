{
 "cells": [
  {
   "cell_type": "code",
   "execution_count": 1,
   "metadata": {
    "execution": {
     "iopub.execute_input": "2022-09-06T11:33:16.827436Z",
     "iopub.status.busy": "2022-09-06T11:33:16.826548Z",
     "iopub.status.idle": "2022-09-06T11:33:18.996799Z",
     "shell.execute_reply": "2022-09-06T11:33:18.996019Z"
    }
   },
   "outputs": [],
   "source": [
    "from data_common.notebook import *\n",
    "\n",
    "from functools import reduce\n",
    "from itertools import product"
   ]
  },
  {
   "cell_type": "markdown",
   "metadata": {},
   "source": [
    "# Composite distance dataset\n",
    "\n",
    "This notebook creates a new set of distance calculations based on all the individual distances.\n",
    "\n",
    "Rather than the average distance between two councils on different measures, the overall distance takes each different measure of distance as a different dimention, and calculcates the distance between the councils in the resulting multi-dimentional space.\n",
    "\n",
    "All measures are curretly assumed to be equal and are not adjusted to make any more important. As there is some overlap in results between them, in general this approach should push councils that are slightly similar on multiple approachs further up. Generally this composite measure has greater agreement with its components than any single measure does with the others."
   ]
  },
  {
   "cell_type": "code",
   "execution_count": 2,
   "metadata": {
    "execution": {
     "iopub.execute_input": "2022-09-06T11:33:19.000779Z",
     "iopub.status.busy": "2022-09-06T11:33:19.000315Z",
     "iopub.status.idle": "2022-09-06T11:33:19.353019Z",
     "shell.execute_reply": "2022-09-06T11:33:19.350426Z"
    }
   },
   "outputs": [],
   "source": [
    "packages = {\n",
    "    \"geographic\": Path(\"data\", \"packages\", \"physical_distance\"),\n",
    "    \"emissions\": Path(\"data\", \"packages\", \"emissions_distance\"),\n",
    "    \"imd\": Path(\"data\", \"packages\", \"imd_distance\"),\n",
    "    \"ruc\": Path(\"data\", \"packages\", \"ruc_distance\"),\n",
    "}\n",
    "\n",
    "files = {x: pd.read_csv(y / \"distance_map.csv\") for x, y in packages.items()}"
   ]
  },
  {
   "cell_type": "code",
   "execution_count": 3,
   "metadata": {
    "execution": {
     "iopub.execute_input": "2022-09-06T11:33:19.359874Z",
     "iopub.status.busy": "2022-09-06T11:33:19.359396Z",
     "iopub.status.idle": "2022-09-06T11:33:21.621863Z",
     "shell.execute_reply": "2022-09-06T11:33:21.621034Z"
    }
   },
   "outputs": [
    {
     "data": {
      "text/html": [
       "<div>\n",
       "<style scoped>\n",
       "    .dataframe tbody tr th:only-of-type {\n",
       "        vertical-align: middle;\n",
       "    }\n",
       "\n",
       "    .dataframe tbody tr th {\n",
       "        vertical-align: top;\n",
       "    }\n",
       "\n",
       "    .dataframe thead th {\n",
       "        text-align: right;\n",
       "    }\n",
       "</style>\n",
       "<table border=\"1\" class=\"dataframe\">\n",
       "  <thead>\n",
       "    <tr style=\"text-align: right;\">\n",
       "      <th></th>\n",
       "      <th>local-authority-code_A</th>\n",
       "      <th>local-authority-code_B</th>\n",
       "      <th>distance</th>\n",
       "      <th>match</th>\n",
       "      <th>position</th>\n",
       "    </tr>\n",
       "  </thead>\n",
       "  <tbody>\n",
       "    <tr>\n",
       "      <th>0</th>\n",
       "      <td>ABC</td>\n",
       "      <td>MEA</td>\n",
       "      <td>5.59</td>\n",
       "      <td>64.7</td>\n",
       "      <td>2.0</td>\n",
       "    </tr>\n",
       "    <tr>\n",
       "      <th>1</th>\n",
       "      <td>ABC</td>\n",
       "      <td>ANN</td>\n",
       "      <td>5.58</td>\n",
       "      <td>64.7</td>\n",
       "      <td>1.0</td>\n",
       "    </tr>\n",
       "    <tr>\n",
       "      <th>2</th>\n",
       "      <td>ABC</td>\n",
       "      <td>RCC</td>\n",
       "      <td>7.91</td>\n",
       "      <td>50.0</td>\n",
       "      <td>3.0</td>\n",
       "    </tr>\n",
       "    <tr>\n",
       "      <th>3</th>\n",
       "      <td>ABC</td>\n",
       "      <td>HIG</td>\n",
       "      <td>8.05</td>\n",
       "      <td>49.1</td>\n",
       "      <td>4.0</td>\n",
       "    </tr>\n",
       "    <tr>\n",
       "      <th>4</th>\n",
       "      <td>ABC</td>\n",
       "      <td>DRS</td>\n",
       "      <td>8.47</td>\n",
       "      <td>46.4</td>\n",
       "      <td>5.0</td>\n",
       "    </tr>\n",
       "  </tbody>\n",
       "</table>\n",
       "</div>"
      ],
      "text/plain": [
       "  local-authority-code_A local-authority-code_B  distance  match  position\n",
       "0                    ABC                    MEA      5.59   64.7       2.0\n",
       "1                    ABC                    ANN      5.58   64.7       1.0\n",
       "2                    ABC                    RCC      7.91   50.0       3.0\n",
       "3                    ABC                    HIG      8.05   49.1       4.0\n",
       "4                    ABC                    DRS      8.47   46.4       5.0"
      ]
     },
     "execution_count": 3,
     "metadata": {},
     "output_type": "execute_result"
    }
   ],
   "source": [
    "df = (\n",
    "    pd.DataFrame()\n",
    "    .space.join_distance(files)\n",
    "    .joint_space.composite_distance(normalize=False)\n",
    "    .space.match_distance()\n",
    "    .space.local_rankings()\n",
    ")\n",
    "df.to_csv(\n",
    "    Path(\"data\", \"packages\", \"composite_distance\", \"distance_map.csv\"), index=False\n",
    ")\n",
    "df.head()"
   ]
  },
  {
   "cell_type": "code",
   "execution_count": 4,
   "metadata": {
    "execution": {
     "iopub.execute_input": "2022-09-06T11:33:21.626698Z",
     "iopub.status.busy": "2022-09-06T11:33:21.626377Z",
     "iopub.status.idle": "2022-09-06T11:33:21.666719Z",
     "shell.execute_reply": "2022-09-06T11:33:21.666018Z"
    }
   },
   "outputs": [
    {
     "data": {
      "text/html": [
       "<div>\n",
       "<style scoped>\n",
       "    .dataframe tbody tr th:only-of-type {\n",
       "        vertical-align: middle;\n",
       "    }\n",
       "\n",
       "    .dataframe tbody tr th {\n",
       "        vertical-align: top;\n",
       "    }\n",
       "\n",
       "    .dataframe thead th {\n",
       "        text-align: right;\n",
       "    }\n",
       "</style>\n",
       "<table border=\"1\" class=\"dataframe\">\n",
       "  <thead>\n",
       "    <tr style=\"text-align: right;\">\n",
       "      <th></th>\n",
       "      <th>local-authority-code</th>\n",
       "      <th>label</th>\n",
       "    </tr>\n",
       "  </thead>\n",
       "  <tbody>\n",
       "    <tr>\n",
       "      <th>0</th>\n",
       "      <td>ABC</td>\n",
       "      <td>Northern Ireland; Emissions: Industry/Commeric...</td>\n",
       "    </tr>\n",
       "    <tr>\n",
       "      <th>1</th>\n",
       "      <td>ABD</td>\n",
       "      <td>Scotland; Emissions: Agriculture; 5th IMD quin...</td>\n",
       "    </tr>\n",
       "    <tr>\n",
       "      <th>2</th>\n",
       "      <td>ABE</td>\n",
       "      <td>Scotland; Emissions: Public sector; 4th IMD qu...</td>\n",
       "    </tr>\n",
       "    <tr>\n",
       "      <th>3</th>\n",
       "      <td>ADU</td>\n",
       "      <td>South East; Emissions: Urban Mainstream; 4th I...</td>\n",
       "    </tr>\n",
       "    <tr>\n",
       "      <th>4</th>\n",
       "      <td>AGB</td>\n",
       "      <td>Scotland; Emissions: Agriculture; 4th IMD quin...</td>\n",
       "    </tr>\n",
       "  </tbody>\n",
       "</table>\n",
       "</div>"
      ],
      "text/plain": [
       "  local-authority-code                                              label\n",
       "0                  ABC  Northern Ireland; Emissions: Industry/Commeric...\n",
       "1                  ABD  Scotland; Emissions: Agriculture; 5th IMD quin...\n",
       "2                  ABE  Scotland; Emissions: Public sector; 4th IMD qu...\n",
       "3                  ADU  South East; Emissions: Urban Mainstream; 4th I...\n",
       "4                  AGB  Scotland; Emissions: Agriculture; 4th IMD quin..."
      ]
     },
     "execution_count": 4,
     "metadata": {},
     "output_type": "execute_result"
    }
   ],
   "source": [
    "# create composite labels\n",
    "\n",
    "files = [\n",
    "    pd.read_csv(y / \"la_labels.csv\")\n",
    "    .set_index(\"local-authority-code\")\n",
    "    .rename(columns={\"label\": x})\n",
    "    for x, y in packages.items()\n",
    "]\n",
    "\n",
    "df = reduce(pd.DataFrame.join, files)\n",
    "\n",
    "df[\"emissions\"] = \"Emissions: \" + df[\"emissions\"]\n",
    "\n",
    "\n",
    "def f(x):\n",
    "    return \"; \".join(x)\n",
    "\n",
    "\n",
    "ndf = df.apply(f, axis=\"columns\").to_frame().rename(columns={0: \"label\"}).reset_index()\n",
    "ndf.to_csv(Path(\"data\", \"packages\", \"composite_distance\", \"la_labels.csv\"), index=False)\n",
    "ndf.head()"
   ]
  },
  {
   "cell_type": "code",
   "execution_count": 5,
   "metadata": {
    "execution": {
     "iopub.execute_input": "2022-09-06T11:33:21.669978Z",
     "iopub.status.busy": "2022-09-06T11:33:21.669734Z",
     "iopub.status.idle": "2022-09-06T11:33:21.717005Z",
     "shell.execute_reply": "2022-09-06T11:33:21.716291Z"
    }
   },
   "outputs": [
    {
     "data": {
      "text/html": [
       "<div>\n",
       "<style scoped>\n",
       "    .dataframe tbody tr th:only-of-type {\n",
       "        vertical-align: middle;\n",
       "    }\n",
       "\n",
       "    .dataframe tbody tr th {\n",
       "        vertical-align: top;\n",
       "    }\n",
       "\n",
       "    .dataframe thead th {\n",
       "        text-align: right;\n",
       "    }\n",
       "</style>\n",
       "<table border=\"1\" class=\"dataframe\">\n",
       "  <thead>\n",
       "    <tr style=\"text-align: right;\">\n",
       "      <th></th>\n",
       "      <th>label</th>\n",
       "      <th>desc</th>\n",
       "    </tr>\n",
       "  </thead>\n",
       "  <tbody>\n",
       "    <tr>\n",
       "      <th>0</th>\n",
       "      <td>Northern Ireland; Emissions: Urban Mainstream;...</td>\n",
       "      <td>Below average for all emissions scores; in mos...</td>\n",
       "    </tr>\n",
       "    <tr>\n",
       "      <th>1</th>\n",
       "      <td>Northern Ireland; Emissions: Urban Mainstream;...</td>\n",
       "      <td>Below average for all emissions scores; in mos...</td>\n",
       "    </tr>\n",
       "    <tr>\n",
       "      <th>2</th>\n",
       "      <td>Northern Ireland; Emissions: Urban Mainstream;...</td>\n",
       "      <td>Below average for all emissions scores; in mos...</td>\n",
       "    </tr>\n",
       "    <tr>\n",
       "      <th>3</th>\n",
       "      <td>Northern Ireland; Emissions: Urban Mainstream;...</td>\n",
       "      <td>Below average for all emissions scores; in mos...</td>\n",
       "    </tr>\n",
       "    <tr>\n",
       "      <th>4</th>\n",
       "      <td>Northern Ireland; Emissions: Urban Mainstream;...</td>\n",
       "      <td>Below average for all emissions scores; in sec...</td>\n",
       "    </tr>\n",
       "  </tbody>\n",
       "</table>\n",
       "</div>"
      ],
      "text/plain": [
       "                                               label  \\\n",
       "0  Northern Ireland; Emissions: Urban Mainstream;...   \n",
       "1  Northern Ireland; Emissions: Urban Mainstream;...   \n",
       "2  Northern Ireland; Emissions: Urban Mainstream;...   \n",
       "3  Northern Ireland; Emissions: Urban Mainstream;...   \n",
       "4  Northern Ireland; Emissions: Urban Mainstream;...   \n",
       "\n",
       "                                                desc  \n",
       "0  Below average for all emissions scores; in mos...  \n",
       "1  Below average for all emissions scores; in mos...  \n",
       "2  Below average for all emissions scores; in mos...  \n",
       "3  Below average for all emissions scores; in mos...  \n",
       "4  Below average for all emissions scores; in sec...  "
      ]
     },
     "execution_count": 5,
     "metadata": {},
     "output_type": "execute_result"
    }
   ],
   "source": [
    "files = {x: pd.read_csv(y / \"label_desc.csv\") for x, y in packages.items()}\n",
    "\n",
    "files[\"emissions\"][\"label\"] = \"Emissions: \" + files[\"emissions\"][\"label\"]\n",
    "\n",
    "files[\"geographic\"][\"desc\"] = None\n",
    "\n",
    "labels = [x[\"label\"].tolist() for x in files.values()]\n",
    "descriptions = [x[\"desc\"].tolist() for x in files.values()]\n",
    "\n",
    "labels = pd.Series(product(*labels)).apply(lambda x: \"; \".join(x))\n",
    "\n",
    "\n",
    "def process_description(descriptions: List[str]) -> str:\n",
    "    value = \"; \".join([x for x in descriptions if x])\n",
    "    value = value.replace(\"Councils \", \"\")\n",
    "    return value\n",
    "\n",
    "\n",
    "descriptions = pd.Series(product(*descriptions)).apply(process_description)\n",
    "\n",
    "df = pd.DataFrame({\"label\": labels, \"desc\": descriptions})\n",
    "df.to_csv(Path(\"data\", \"packages\", \"composite_distance\", \"label_desc.csv\"), index=False)\n",
    "df.head()"
   ]
  }
 ],
 "metadata": {
  "kernelspec": {
   "display_name": "Python 3.10.6 64-bit",
   "language": "python",
   "name": "python3"
  },
  "language_info": {
   "codemirror_mode": {
    "name": "ipython",
    "version": 3
   },
   "file_extension": ".py",
   "mimetype": "text/x-python",
   "name": "python",
   "nbconvert_exporter": "python",
   "pygments_lexer": "ipython3",
   "version": "3.10.6"
  },
  "vscode": {
   "interpreter": {
    "hash": "949777d72b0d2535278d3dc13498b2535136f6dfe0678499012e853ee9abcab1"
   }
  }
 },
 "nbformat": 4,
 "nbformat_minor": 2
}
