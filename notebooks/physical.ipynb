{
 "cells": [
  {
   "cell_type": "code",
   "execution_count": 1,
   "metadata": {
    "execution": {
     "iopub.execute_input": "2023-04-03T10:09:49.443113Z",
     "iopub.status.busy": "2023-04-03T10:09:49.442748Z",
     "iopub.status.idle": "2023-04-03T10:09:50.938069Z",
     "shell.execute_reply": "2023-04-03T10:09:50.937449Z"
    }
   },
   "outputs": [],
   "source": [
    "from data_common.notebook import *\n",
    "from data_common.pandas.df_extensions import la\n",
    "from datetime import date\n",
    "import rich"
   ]
  },
  {
   "cell_type": "code",
   "execution_count": 2,
   "metadata": {
    "execution": {
     "iopub.execute_input": "2023-04-03T10:09:50.941144Z",
     "iopub.status.busy": "2023-04-03T10:09:50.940682Z",
     "iopub.status.idle": "2023-04-03T10:09:51.077455Z",
     "shell.execute_reply": "2023-04-03T10:09:51.076837Z"
    }
   },
   "outputs": [],
   "source": [
    "# get councils as of this date\n",
    "council_date = date(2023, 4, 2)\n",
    "\n",
    "df = la.get_la_df(as_of_date=council_date)[[\"local-authority-code\", \"x\", \"y\", \"region\"]]\n",
    "\n",
    "assert df[\"region\"].isnull().any() == False"
   ]
  },
  {
   "cell_type": "code",
   "execution_count": 3,
   "metadata": {
    "execution": {
     "iopub.execute_input": "2023-04-03T10:09:51.080253Z",
     "iopub.status.busy": "2023-04-03T10:09:51.079924Z",
     "iopub.status.idle": "2023-04-03T10:09:51.093004Z",
     "shell.execute_reply": "2023-04-03T10:09:51.092471Z"
    }
   },
   "outputs": [
    {
     "data": {
      "text/html": [
       "<div>\n",
       "<style scoped>\n",
       "    .dataframe tbody tr th:only-of-type {\n",
       "        vertical-align: middle;\n",
       "    }\n",
       "\n",
       "    .dataframe tbody tr th {\n",
       "        vertical-align: top;\n",
       "    }\n",
       "\n",
       "    .dataframe thead th {\n",
       "        text-align: right;\n",
       "    }\n",
       "</style>\n",
       "<table border=\"1\" class=\"dataframe\">\n",
       "  <thead>\n",
       "    <tr style=\"text-align: right;\">\n",
       "      <th></th>\n",
       "      <th>local-authority-code</th>\n",
       "      <th>label</th>\n",
       "    </tr>\n",
       "  </thead>\n",
       "  <tbody>\n",
       "    <tr>\n",
       "      <th>0</th>\n",
       "      <td>ABC</td>\n",
       "      <td>Northern Ireland</td>\n",
       "    </tr>\n",
       "    <tr>\n",
       "      <th>1</th>\n",
       "      <td>ABD</td>\n",
       "      <td>Scotland</td>\n",
       "    </tr>\n",
       "    <tr>\n",
       "      <th>2</th>\n",
       "      <td>ABE</td>\n",
       "      <td>Scotland</td>\n",
       "    </tr>\n",
       "    <tr>\n",
       "      <th>3</th>\n",
       "      <td>ADU</td>\n",
       "      <td>South East</td>\n",
       "    </tr>\n",
       "    <tr>\n",
       "      <th>4</th>\n",
       "      <td>AGB</td>\n",
       "      <td>Scotland</td>\n",
       "    </tr>\n",
       "  </tbody>\n",
       "</table>\n",
       "</div>"
      ],
      "text/plain": [
       "  local-authority-code             label\n",
       "0                  ABC  Northern Ireland\n",
       "1                  ABD          Scotland\n",
       "2                  ABE          Scotland\n",
       "3                  ADU        South East\n",
       "4                  AGB          Scotland"
      ]
     },
     "execution_count": 3,
     "metadata": {},
     "output_type": "execute_result"
    }
   ],
   "source": [
    "labeldf = df[[\"local-authority-code\", \"region\"]].rename(columns={\"region\": \"label\"})\n",
    "labeldf.to_csv(\n",
    "    Path(\"data\", \"packages\", \"physical_distance\", \"la_labels.csv\"), index=False\n",
    ")\n",
    "labeldf.head()"
   ]
  },
  {
   "cell_type": "code",
   "execution_count": 4,
   "metadata": {
    "execution": {
     "iopub.execute_input": "2023-04-03T10:09:51.095442Z",
     "iopub.status.busy": "2023-04-03T10:09:51.095135Z",
     "iopub.status.idle": "2023-04-03T10:09:51.104028Z",
     "shell.execute_reply": "2023-04-03T10:09:51.103505Z"
    }
   },
   "outputs": [
    {
     "data": {
      "text/html": [
       "<div>\n",
       "<style scoped>\n",
       "    .dataframe tbody tr th:only-of-type {\n",
       "        vertical-align: middle;\n",
       "    }\n",
       "\n",
       "    .dataframe tbody tr th {\n",
       "        vertical-align: top;\n",
       "    }\n",
       "\n",
       "    .dataframe thead th {\n",
       "        text-align: right;\n",
       "    }\n",
       "</style>\n",
       "<table border=\"1\" class=\"dataframe\">\n",
       "  <thead>\n",
       "    <tr style=\"text-align: right;\">\n",
       "      <th></th>\n",
       "      <th>label</th>\n",
       "      <th>desc</th>\n",
       "    </tr>\n",
       "  </thead>\n",
       "  <tbody>\n",
       "    <tr>\n",
       "      <th>0</th>\n",
       "      <td>Northern Ireland</td>\n",
       "      <td>Local authorities in Northern Ireland</td>\n",
       "    </tr>\n",
       "    <tr>\n",
       "      <th>1</th>\n",
       "      <td>Scotland</td>\n",
       "      <td>Local authorities in Scotland</td>\n",
       "    </tr>\n",
       "    <tr>\n",
       "      <th>2</th>\n",
       "      <td>South East</td>\n",
       "      <td>Local authorities in South East</td>\n",
       "    </tr>\n",
       "    <tr>\n",
       "      <th>3</th>\n",
       "      <td>Wales</td>\n",
       "      <td>Local authorities in Wales</td>\n",
       "    </tr>\n",
       "    <tr>\n",
       "      <th>4</th>\n",
       "      <td>East Midlands</td>\n",
       "      <td>Local authorities in East Midlands</td>\n",
       "    </tr>\n",
       "  </tbody>\n",
       "</table>\n",
       "</div>"
      ],
      "text/plain": [
       "              label                                   desc\n",
       "0  Northern Ireland  Local authorities in Northern Ireland\n",
       "1          Scotland          Local authorities in Scotland\n",
       "2        South East        Local authorities in South East\n",
       "3             Wales             Local authorities in Wales\n",
       "4     East Midlands     Local authorities in East Midlands"
      ]
     },
     "execution_count": 4,
     "metadata": {},
     "output_type": "execute_result"
    }
   ],
   "source": [
    "labels = pd.Series(labeldf[\"label\"].unique())\n",
    "descs = labels.apply(lambda x: f\"Local authorities in {x}\")\n",
    "descdf = pd.DataFrame({\"label\": labels, \"desc\": descs})\n",
    "descdf.to_csv(\n",
    "    Path(\"data\", \"packages\", \"physical_distance\", \"label_desc.csv\"), index=False\n",
    ")\n",
    "descdf.head()"
   ]
  },
  {
   "cell_type": "code",
   "execution_count": 5,
   "metadata": {
    "execution": {
     "iopub.execute_input": "2023-04-03T10:09:51.106475Z",
     "iopub.status.busy": "2023-04-03T10:09:51.106172Z",
     "iopub.status.idle": "2023-04-03T10:09:52.483966Z",
     "shell.execute_reply": "2023-04-03T10:09:52.483396Z"
    }
   },
   "outputs": [
    {
     "data": {
      "text/html": [
       "<div>\n",
       "<style scoped>\n",
       "    .dataframe tbody tr th:only-of-type {\n",
       "        vertical-align: middle;\n",
       "    }\n",
       "\n",
       "    .dataframe tbody tr th {\n",
       "        vertical-align: top;\n",
       "    }\n",
       "\n",
       "    .dataframe thead th {\n",
       "        text-align: right;\n",
       "    }\n",
       "</style>\n",
       "<table border=\"1\" class=\"dataframe\">\n",
       "  <thead>\n",
       "    <tr style=\"text-align: right;\">\n",
       "      <th></th>\n",
       "      <th>local-authority-code_A</th>\n",
       "      <th>local-authority-code_B</th>\n",
       "      <th>distance</th>\n",
       "      <th>match</th>\n",
       "      <th>position</th>\n",
       "    </tr>\n",
       "  </thead>\n",
       "  <tbody>\n",
       "    <tr>\n",
       "      <th>0</th>\n",
       "      <td>ABC</td>\n",
       "      <td>NMD</td>\n",
       "      <td>0.23</td>\n",
       "      <td>95.1</td>\n",
       "      <td>1.0</td>\n",
       "    </tr>\n",
       "    <tr>\n",
       "      <th>1</th>\n",
       "      <td>ABC</td>\n",
       "      <td>MUL</td>\n",
       "      <td>0.24</td>\n",
       "      <td>94.9</td>\n",
       "      <td>2.0</td>\n",
       "    </tr>\n",
       "    <tr>\n",
       "      <th>2</th>\n",
       "      <td>ABC</td>\n",
       "      <td>LBC</td>\n",
       "      <td>0.25</td>\n",
       "      <td>94.7</td>\n",
       "      <td>3.0</td>\n",
       "    </tr>\n",
       "    <tr>\n",
       "      <th>3</th>\n",
       "      <td>ABC</td>\n",
       "      <td>ANN</td>\n",
       "      <td>0.26</td>\n",
       "      <td>94.4</td>\n",
       "      <td>4.0</td>\n",
       "    </tr>\n",
       "    <tr>\n",
       "      <th>4</th>\n",
       "      <td>ABC</td>\n",
       "      <td>BFS</td>\n",
       "      <td>0.33</td>\n",
       "      <td>93.0</td>\n",
       "      <td>5.0</td>\n",
       "    </tr>\n",
       "  </tbody>\n",
       "</table>\n",
       "</div>"
      ],
      "text/plain": [
       "  local-authority-code_A local-authority-code_B  distance  match  position\n",
       "0                    ABC                    NMD      0.23   95.1       1.0\n",
       "1                    ABC                    MUL      0.24   94.9       2.0\n",
       "2                    ABC                    LBC      0.25   94.7       3.0\n",
       "3                    ABC                    ANN      0.26   94.4       4.0\n",
       "4                    ABC                    BFS      0.33   93.0       5.0"
      ]
     },
     "execution_count": 5,
     "metadata": {},
     "output_type": "execute_result"
    }
   ],
   "source": [
    "distance = (\n",
    "    df.drop(columns=[\"region\"])\n",
    "    .set_index(\"local-authority-code\")\n",
    "    .space.self_distance(normalize=True)\n",
    "    .space.match_distance()\n",
    "    .space.local_rankings()\n",
    "    .sort_values([\"local-authority-code_A\", \"distance\"])\n",
    ")\n",
    "distance.to_csv(\n",
    "    Path(\"data\", \"packages\", \"physical_distance\", \"distance_map.csv\"), index=False\n",
    ")\n",
    "distance.head()"
   ]
  }
 ],
 "metadata": {
  "kernelspec": {
   "display_name": "Python 3.10.6 64-bit",
   "language": "python",
   "name": "python3"
  },
  "language_info": {
   "codemirror_mode": {
    "name": "ipython",
    "version": 3
   },
   "file_extension": ".py",
   "mimetype": "text/x-python",
   "name": "python",
   "nbconvert_exporter": "python",
   "pygments_lexer": "ipython3",
   "version": "3.10.10"
  },
  "vscode": {
   "interpreter": {
    "hash": "949777d72b0d2535278d3dc13498b2535136f6dfe0678499012e853ee9abcab1"
   }
  }
 },
 "nbformat": 4,
 "nbformat_minor": 2
}
