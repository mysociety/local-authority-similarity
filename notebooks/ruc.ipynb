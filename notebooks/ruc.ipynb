{
 "cells": [
  {
   "cell_type": "code",
   "execution_count": 1,
   "metadata": {
    "execution": {
     "iopub.execute_input": "2024-02-02T21:15:56.264945Z",
     "iopub.status.busy": "2024-02-02T21:15:56.264750Z",
     "iopub.status.idle": "2024-02-02T21:15:57.675330Z",
     "shell.execute_reply": "2024-02-02T21:15:57.674715Z"
    }
   },
   "outputs": [],
   "source": [
    "# Notebook to produce the distance calculation\n",
    "\n",
    "from data_common.notebook import *\n",
    "from data_common.dataset import get_dataset_df\n",
    "from datetime import date\n",
    "\n",
    "council_date = date(2024, 2, 2)"
   ]
  },
  {
   "cell_type": "code",
   "execution_count": 2,
   "metadata": {
    "execution": {
     "iopub.execute_input": "2024-02-02T21:15:57.678095Z",
     "iopub.status.busy": "2024-02-02T21:15:57.677760Z",
     "iopub.status.idle": "2024-02-02T21:15:57.741634Z",
     "shell.execute_reply": "2024-02-02T21:15:57.741040Z"
    }
   },
   "outputs": [
    {
     "data": {
      "text/html": [
       "<div>\n",
       "<style scoped>\n",
       "    .dataframe tbody tr th:only-of-type {\n",
       "        vertical-align: middle;\n",
       "    }\n",
       "\n",
       "    .dataframe tbody tr th {\n",
       "        vertical-align: top;\n",
       "    }\n",
       "\n",
       "    .dataframe thead th {\n",
       "        text-align: right;\n",
       "    }\n",
       "</style>\n",
       "<table border=\"1\" class=\"dataframe\">\n",
       "  <thead>\n",
       "    <tr style=\"text-align: right;\">\n",
       "      <th></th>\n",
       "      <th>local-authority-code</th>\n",
       "      <th>official-name</th>\n",
       "      <th>highly-rural</th>\n",
       "      <th>rural</th>\n",
       "      <th>urban</th>\n",
       "      <th>ruc-cluster-label</th>\n",
       "    </tr>\n",
       "  </thead>\n",
       "  <tbody>\n",
       "    <tr>\n",
       "      <th>0</th>\n",
       "      <td>ABC</td>\n",
       "      <td>Armagh City, Banbridge and Craigavon Borough C...</td>\n",
       "      <td>4.07e-01</td>\n",
       "      <td>1.03e-01</td>\n",
       "      <td>0.49</td>\n",
       "      <td>Sparse and rural</td>\n",
       "    </tr>\n",
       "    <tr>\n",
       "      <th>1</th>\n",
       "      <td>ABD</td>\n",
       "      <td>Aberdeenshire Council</td>\n",
       "      <td>4.92e-01</td>\n",
       "      <td>2.12e-01</td>\n",
       "      <td>0.30</td>\n",
       "      <td>Sparse and rural</td>\n",
       "    </tr>\n",
       "    <tr>\n",
       "      <th>2</th>\n",
       "      <td>ABE</td>\n",
       "      <td>Aberdeen City Council</td>\n",
       "      <td>2.46e-03</td>\n",
       "      <td>6.00e-02</td>\n",
       "      <td>0.94</td>\n",
       "      <td>Urban</td>\n",
       "    </tr>\n",
       "    <tr>\n",
       "      <th>3</th>\n",
       "      <td>ADU</td>\n",
       "      <td>Adur District Council</td>\n",
       "      <td>0.00e+00</td>\n",
       "      <td>0.00e+00</td>\n",
       "      <td>1.00</td>\n",
       "      <td>Urban</td>\n",
       "    </tr>\n",
       "    <tr>\n",
       "      <th>4</th>\n",
       "      <td>AGB</td>\n",
       "      <td>Argyll and Bute Council</td>\n",
       "      <td>4.70e-01</td>\n",
       "      <td>3.52e-01</td>\n",
       "      <td>0.18</td>\n",
       "      <td>Sparse and rural</td>\n",
       "    </tr>\n",
       "    <tr>\n",
       "      <th>...</th>\n",
       "      <td>...</td>\n",
       "      <td>...</td>\n",
       "      <td>...</td>\n",
       "      <td>...</td>\n",
       "      <td>...</td>\n",
       "      <td>...</td>\n",
       "    </tr>\n",
       "    <tr>\n",
       "      <th>389</th>\n",
       "      <td>TVCA</td>\n",
       "      <td>Tees Valley Combined Authority</td>\n",
       "      <td>2.85e-02</td>\n",
       "      <td>7.12e-02</td>\n",
       "      <td>0.90</td>\n",
       "      <td>Urban</td>\n",
       "    </tr>\n",
       "    <tr>\n",
       "      <th>390</th>\n",
       "      <td>WECA</td>\n",
       "      <td>West of England Combined Authority</td>\n",
       "      <td>4.89e-02</td>\n",
       "      <td>3.31e-02</td>\n",
       "      <td>0.92</td>\n",
       "      <td>Urban</td>\n",
       "    </tr>\n",
       "    <tr>\n",
       "      <th>391</th>\n",
       "      <td>WMCA</td>\n",
       "      <td>West Midlands Combined Authority</td>\n",
       "      <td>1.17e-03</td>\n",
       "      <td>6.76e-03</td>\n",
       "      <td>0.99</td>\n",
       "      <td>Urban</td>\n",
       "    </tr>\n",
       "    <tr>\n",
       "      <th>392</th>\n",
       "      <td>WYCA</td>\n",
       "      <td>West Yorkshire Combined Authority</td>\n",
       "      <td>1.79e-02</td>\n",
       "      <td>7.02e-02</td>\n",
       "      <td>0.91</td>\n",
       "      <td>Urban</td>\n",
       "    </tr>\n",
       "    <tr>\n",
       "      <th>393</th>\n",
       "      <td>YNYC</td>\n",
       "      <td>York and North Yorkshire Mayoral Combined Auth...</td>\n",
       "      <td>2.41e-01</td>\n",
       "      <td>2.04e-01</td>\n",
       "      <td>0.56</td>\n",
       "      <td>Urban with rural areas</td>\n",
       "    </tr>\n",
       "  </tbody>\n",
       "</table>\n",
       "<p>394 rows × 6 columns</p>\n",
       "</div>"
      ],
      "text/plain": [
       "    local-authority-code                                      official-name  \\\n",
       "0                    ABC  Armagh City, Banbridge and Craigavon Borough C...   \n",
       "1                    ABD                              Aberdeenshire Council   \n",
       "2                    ABE                              Aberdeen City Council   \n",
       "3                    ADU                              Adur District Council   \n",
       "4                    AGB                            Argyll and Bute Council   \n",
       "..                   ...                                                ...   \n",
       "389                 TVCA                     Tees Valley Combined Authority   \n",
       "390                 WECA                 West of England Combined Authority   \n",
       "391                 WMCA                   West Midlands Combined Authority   \n",
       "392                 WYCA                  West Yorkshire Combined Authority   \n",
       "393                 YNYC  York and North Yorkshire Mayoral Combined Auth...   \n",
       "\n",
       "     highly-rural     rural  urban       ruc-cluster-label  \n",
       "0        4.07e-01  1.03e-01   0.49        Sparse and rural  \n",
       "1        4.92e-01  2.12e-01   0.30        Sparse and rural  \n",
       "2        2.46e-03  6.00e-02   0.94                   Urban  \n",
       "3        0.00e+00  0.00e+00   1.00                   Urban  \n",
       "4        4.70e-01  3.52e-01   0.18        Sparse and rural  \n",
       "..            ...       ...    ...                     ...  \n",
       "389      2.85e-02  7.12e-02   0.90                   Urban  \n",
       "390      4.89e-02  3.31e-02   0.92                   Urban  \n",
       "391      1.17e-03  6.76e-03   0.99                   Urban  \n",
       "392      1.79e-02  7.02e-02   0.91                   Urban  \n",
       "393      2.41e-01  2.04e-01   0.56  Urban with rural areas  \n",
       "\n",
       "[394 rows x 6 columns]"
      ]
     },
     "execution_count": 2,
     "metadata": {},
     "output_type": "execute_result"
    }
   ],
   "source": [
    "df = get_dataset_df(\"uk_ruc\", \"uk_ruc\", settings[\"ruc_release\"], \"la_ruc.csv\")\n",
    "df"
   ]
  },
  {
   "cell_type": "code",
   "execution_count": 3,
   "metadata": {
    "execution": {
     "iopub.execute_input": "2024-02-02T21:15:57.744060Z",
     "iopub.status.busy": "2024-02-02T21:15:57.743679Z",
     "iopub.status.idle": "2024-02-02T21:15:57.752021Z",
     "shell.execute_reply": "2024-02-02T21:15:57.751521Z"
    }
   },
   "outputs": [
    {
     "data": {
      "text/html": [
       "<div>\n",
       "<style scoped>\n",
       "    .dataframe tbody tr th:only-of-type {\n",
       "        vertical-align: middle;\n",
       "    }\n",
       "\n",
       "    .dataframe tbody tr th {\n",
       "        vertical-align: top;\n",
       "    }\n",
       "\n",
       "    .dataframe thead th {\n",
       "        text-align: right;\n",
       "    }\n",
       "</style>\n",
       "<table border=\"1\" class=\"dataframe\">\n",
       "  <thead>\n",
       "    <tr style=\"text-align: right;\">\n",
       "      <th></th>\n",
       "      <th>local-authority-code</th>\n",
       "      <th>label</th>\n",
       "    </tr>\n",
       "  </thead>\n",
       "  <tbody>\n",
       "    <tr>\n",
       "      <th>0</th>\n",
       "      <td>ABC</td>\n",
       "      <td>Sparse and rural</td>\n",
       "    </tr>\n",
       "    <tr>\n",
       "      <th>1</th>\n",
       "      <td>ABD</td>\n",
       "      <td>Sparse and rural</td>\n",
       "    </tr>\n",
       "    <tr>\n",
       "      <th>2</th>\n",
       "      <td>ABE</td>\n",
       "      <td>Urban</td>\n",
       "    </tr>\n",
       "    <tr>\n",
       "      <th>3</th>\n",
       "      <td>ADU</td>\n",
       "      <td>Urban</td>\n",
       "    </tr>\n",
       "    <tr>\n",
       "      <th>4</th>\n",
       "      <td>AGB</td>\n",
       "      <td>Sparse and rural</td>\n",
       "    </tr>\n",
       "  </tbody>\n",
       "</table>\n",
       "</div>"
      ],
      "text/plain": [
       "  local-authority-code             label\n",
       "0                  ABC  Sparse and rural\n",
       "1                  ABD  Sparse and rural\n",
       "2                  ABE             Urban\n",
       "3                  ADU             Urban\n",
       "4                  AGB  Sparse and rural"
      ]
     },
     "execution_count": 3,
     "metadata": {},
     "output_type": "execute_result"
    }
   ],
   "source": [
    "label_df = df[[\"local-authority-code\", \"ruc-cluster-label\"]].rename(\n",
    "    columns={\"ruc-cluster-label\": \"label\"}\n",
    ")\n",
    "label_df.to_csv(Path(\"data\", \"packages\", \"ruc_distance\", \"la_labels.csv\"), index=False)\n",
    "label_df.head()"
   ]
  },
  {
   "cell_type": "code",
   "execution_count": 4,
   "metadata": {
    "execution": {
     "iopub.execute_input": "2024-02-02T21:15:57.754335Z",
     "iopub.status.busy": "2024-02-02T21:15:57.753974Z",
     "iopub.status.idle": "2024-02-02T21:15:57.757987Z",
     "shell.execute_reply": "2024-02-02T21:15:57.757388Z"
    }
   },
   "outputs": [
    {
     "data": {
      "text/plain": [
       "array(['Sparse and rural', 'Urban', 'Rural', 'Urban with rural areas'],\n",
       "      dtype=object)"
      ]
     },
     "execution_count": 4,
     "metadata": {},
     "output_type": "execute_result"
    }
   ],
   "source": [
    "label_df.label.unique()"
   ]
  },
  {
   "cell_type": "code",
   "execution_count": 5,
   "metadata": {
    "execution": {
     "iopub.execute_input": "2024-02-02T21:15:57.760323Z",
     "iopub.status.busy": "2024-02-02T21:15:57.759963Z",
     "iopub.status.idle": "2024-02-02T21:15:57.768408Z",
     "shell.execute_reply": "2024-02-02T21:15:57.767907Z"
    }
   },
   "outputs": [
    {
     "data": {
      "text/html": [
       "<div>\n",
       "<style scoped>\n",
       "    .dataframe tbody tr th:only-of-type {\n",
       "        vertical-align: middle;\n",
       "    }\n",
       "\n",
       "    .dataframe tbody tr th {\n",
       "        vertical-align: top;\n",
       "    }\n",
       "\n",
       "    .dataframe thead th {\n",
       "        text-align: right;\n",
       "    }\n",
       "</style>\n",
       "<table border=\"1\" class=\"dataframe\">\n",
       "  <thead>\n",
       "    <tr style=\"text-align: right;\">\n",
       "      <th></th>\n",
       "      <th>label</th>\n",
       "      <th>desc</th>\n",
       "    </tr>\n",
       "  </thead>\n",
       "  <tbody>\n",
       "    <tr>\n",
       "      <th>0</th>\n",
       "      <td>Sparse and rural</td>\n",
       "      <td>Local authority predominately made up of large...</td>\n",
       "    </tr>\n",
       "    <tr>\n",
       "      <th>1</th>\n",
       "      <td>Urban</td>\n",
       "      <td>Local authority predominately made up of urban...</td>\n",
       "    </tr>\n",
       "    <tr>\n",
       "      <th>2</th>\n",
       "      <td>Rural</td>\n",
       "      <td>Local authority predominately made up of rural...</td>\n",
       "    </tr>\n",
       "    <tr>\n",
       "      <th>3</th>\n",
       "      <td>Urban with rural areas</td>\n",
       "      <td>Local authority mostly made up of urban neighb...</td>\n",
       "    </tr>\n",
       "  </tbody>\n",
       "</table>\n",
       "</div>"
      ],
      "text/plain": [
       "                    label                                               desc\n",
       "0        Sparse and rural  Local authority predominately made up of large...\n",
       "1                   Urban  Local authority predominately made up of urban...\n",
       "2                   Rural  Local authority predominately made up of rural...\n",
       "3  Urban with rural areas  Local authority mostly made up of urban neighb..."
      ]
     },
     "execution_count": 5,
     "metadata": {},
     "output_type": "execute_result"
    }
   ],
   "source": [
    "descs = {\n",
    "    \"Sparse and rural\": \"Local authority predominately made up of large and low-density rural neighbourhoods\",\n",
    "    \"Urban\": \"Local authority predominately made up of urban neighbourhoods\",\n",
    "    \"Rural\": \"Local authority predominately made up of rural neighbourhoods\",\n",
    "    \"Urban with rural areas\": \"Local authority mostly made up of urban neighbourhoods, but with a significant number of rural neighbourhoods\",\n",
    "}\n",
    "\n",
    "descs = (\n",
    "    pd.DataFrame.from_dict(descs, orient=\"index\")\n",
    "    .reset_index()\n",
    "    .rename(columns={\"index\": \"label\", 0: \"desc\"})\n",
    ")\n",
    "\n",
    "descs.to_csv(Path(\"data\", \"packages\", \"ruc_distance\", \"label_desc.csv\"), index=False)\n",
    "descs.head()"
   ]
  },
  {
   "cell_type": "code",
   "execution_count": null,
   "metadata": {},
   "outputs": [],
   "source": []
  },
  {
   "cell_type": "code",
   "execution_count": 6,
   "metadata": {
    "execution": {
     "iopub.execute_input": "2024-02-02T21:15:57.771997Z",
     "iopub.status.busy": "2024-02-02T21:15:57.771542Z",
     "iopub.status.idle": "2024-02-02T21:15:58.940547Z",
     "shell.execute_reply": "2024-02-02T21:15:58.939929Z"
    }
   },
   "outputs": [],
   "source": [
    "d = (\n",
    "    df.la.get_council_info([\"pop-2020\", \"area\"], as_of_date=council_date)\n",
    "    .assign(density=lambda x: x[\"pop-2020\"] / x[\"area\"])\n",
    "    .drop(columns=[\"ruc-cluster-label\", \"pop-2020\", \"area\", \"official-name\"])\n",
    "    .set_index(\"local-authority-code\")\n",
    "    .space.self_distance(normalize=True)\n",
    "    .space.match_distance()\n",
    "    .space.local_rankings()\n",
    "    .sort_values([\"local-authority-code_A\", \"distance\"])\n",
    ")\n",
    "d.to_csv(Path(\"data\", \"packages\", \"ruc_distance\", \"distance_map.csv\"), index=False)"
   ]
  }
 ],
 "metadata": {
  "kernelspec": {
   "display_name": "Python 3.10.6 64-bit",
   "language": "python",
   "name": "python3"
  },
  "language_info": {
   "codemirror_mode": {
    "name": "ipython",
    "version": 3
   },
   "file_extension": ".py",
   "mimetype": "text/x-python",
   "name": "python",
   "nbconvert_exporter": "python",
   "pygments_lexer": "ipython3",
   "version": "3.10.12"
  },
  "vscode": {
   "interpreter": {
    "hash": "949777d72b0d2535278d3dc13498b2535136f6dfe0678499012e853ee9abcab1"
   }
  }
 },
 "nbformat": 4,
 "nbformat_minor": 2
}
